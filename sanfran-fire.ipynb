{
 "cells": [
  {
   "cell_type": "code",
   "execution_count": null,
   "id": "6b3f253d-b99e-473a-afcc-6f36b5275bf7",
   "metadata": {
    "tags": []
   },
   "outputs": [],
   "source": [
    "\n",
    "from pyspark.sql.types import *\n",
    "from pyspark.sql.functions import *\n"
   ]
  },
  {
   "cell_type": "code",
   "execution_count": 35,
   "id": "e2ba1664-9c9b-47cc-aff5-71621a512214",
   "metadata": {
    "execution": {
     "iopub.execute_input": "2022-09-21T22:55:30.801826Z",
     "iopub.status.busy": "2022-09-21T22:55:30.801551Z",
     "iopub.status.idle": "2022-09-21T22:55:31.068914Z",
     "shell.execute_reply": "2022-09-21T22:55:31.068182Z",
     "shell.execute_reply.started": "2022-09-21T22:55:30.801793Z"
    },
    "tags": []
   },
   "outputs": [
    {
     "data": {
      "application/vnd.jupyter.widget-view+json": {
       "model_id": "f5d504260e804102994ae55905b8e1f6",
       "version_major": 2,
       "version_minor": 0
      },
      "text/plain": [
       "VBox()"
      ]
     },
     "metadata": {},
     "output_type": "display_data"
    },
    {
     "data": {
      "application/vnd.jupyter.widget-view+json": {
       "model_id": "",
       "version_major": 2,
       "version_minor": 0
      },
      "text/plain": [
       "FloatProgress(value=0.0, bar_style='info', description='Progress:', layout=Layout(height='25px', width='50%'),…"
      ]
     },
     "metadata": {},
     "output_type": "display_data"
    }
   ],
   "source": [
    "fire_schema = StructType([StructField('CallNumber', IntegerType(), True),\n",
    "                     StructField('UnitID', StringType(), True),\n",
    "                     StructField('IncidentNumber', IntegerType(), True),\n",
    "                     StructField('CallType', StringType(), True),                  \n",
    "                     StructField('CallDate', StringType(), True),      \n",
    "                     StructField('WatchDate', StringType(), True),\n",
    "                     StructField('CallFinalDisposition', StringType(), True),\n",
    "                     StructField('AvailableDtTm', StringType(), True),\n",
    "                     StructField('Address', StringType(), True),       \n",
    "                     StructField('City', StringType(), True),       \n",
    "                     StructField('Zipcode', IntegerType(), True),       \n",
    "                     StructField('Battalion', StringType(), True),                 \n",
    "                     StructField('StationArea', StringType(), True),       \n",
    "                     StructField('Box', StringType(), True),       \n",
    "                     StructField('OriginalPriority', StringType(), True),       \n",
    "                     StructField('Priority', StringType(), True),       \n",
    "                     StructField('FinalPriority', IntegerType(), True),       \n",
    "                     StructField('ALSUnit', BooleanType(), True),       \n",
    "                     StructField('CallTypeGroup', StringType(), True),\n",
    "                     StructField('NumAlarms', IntegerType(), True),\n",
    "                     StructField('UnitType', StringType(), True),\n",
    "                     StructField('UnitSequenceInCallDispatch', IntegerType(), True),\n",
    "                     StructField('FirePreventionDistrict', StringType(), True),\n",
    "                     StructField('SupervisorDistrict', StringType(), True),\n",
    "                     StructField('Neighborhood', StringType(), True),\n",
    "                     StructField('Location', StringType(), True),\n",
    "                     StructField('RowID', StringType(), True),\n",
    "                     StructField('Delay', FloatType(), True)])\n",
    "\n",
    "fire_df = spark.read.csv(\"s3://workshop-datasets-2022/Fire_Department_Calls_for_Service.csv\", header=True, schema=fire_schema)\n",
    "#fire_df = spark.read.csv(\"s3://workshop-datasets-2022/Fire_Department_Calls_For_Service__2016_.csv\", header=True)\n"
   ]
  },
  {
   "cell_type": "code",
   "execution_count": 36,
   "id": "bcae1516-2e22-4b5d-9c7e-bb9ee23f8c76",
   "metadata": {
    "execution": {
     "iopub.execute_input": "2022-09-21T22:55:39.682605Z",
     "iopub.status.busy": "2022-09-21T22:55:39.682198Z",
     "iopub.status.idle": "2022-09-21T22:55:41.986588Z",
     "shell.execute_reply": "2022-09-21T22:55:41.979302Z",
     "shell.execute_reply.started": "2022-09-21T22:55:39.682555Z"
    }
   },
   "outputs": [
    {
     "data": {
      "application/vnd.jupyter.widget-view+json": {
       "model_id": "46b9770ea93a4a159755302a668474d3",
       "version_major": 2,
       "version_minor": 0
      },
      "text/plain": [
       "VBox()"
      ]
     },
     "metadata": {},
     "output_type": "display_data"
    },
    {
     "data": {
      "application/vnd.jupyter.widget-view+json": {
       "model_id": "",
       "version_major": 2,
       "version_minor": 0
      },
      "text/plain": [
       "FloatProgress(value=0.0, bar_style='info', description='Progress:', layout=Layout(height='25px', width='50%'),…"
      ]
     },
     "metadata": {},
     "output_type": "display_data"
    },
    {
     "name": "stdout",
     "output_type": "stream",
     "text": [
      "523928"
     ]
    }
   ],
   "source": [
    "fire_df.count()"
   ]
  },
  {
   "cell_type": "code",
   "execution_count": 37,
   "id": "b1241233-a6a9-42d2-8f63-f3ca2b633149",
   "metadata": {
    "execution": {
     "iopub.execute_input": "2022-09-21T22:55:49.281160Z",
     "iopub.status.busy": "2022-09-21T22:55:49.280883Z",
     "iopub.status.idle": "2022-09-21T22:55:49.342174Z",
     "shell.execute_reply": "2022-09-21T22:55:49.341480Z",
     "shell.execute_reply.started": "2022-09-21T22:55:49.281128Z"
    },
    "tags": []
   },
   "outputs": [
    {
     "data": {
      "application/vnd.jupyter.widget-view+json": {
       "model_id": "252abfd1414c46a6ba6e5112b95662db",
       "version_major": 2,
       "version_minor": 0
      },
      "text/plain": [
       "VBox()"
      ]
     },
     "metadata": {},
     "output_type": "display_data"
    },
    {
     "data": {
      "application/vnd.jupyter.widget-view+json": {
       "model_id": "",
       "version_major": 2,
       "version_minor": 0
      },
      "text/plain": [
       "FloatProgress(value=0.0, bar_style='info', description='Progress:', layout=Layout(height='25px', width='50%'),…"
      ]
     },
     "metadata": {},
     "output_type": "display_data"
    },
    {
     "name": "stdout",
     "output_type": "stream",
     "text": [
      "root\n",
      " |-- CallNumber: integer (nullable = true)\n",
      " |-- UnitID: string (nullable = true)\n",
      " |-- IncidentNumber: integer (nullable = true)\n",
      " |-- CallType: string (nullable = true)\n",
      " |-- CallDate: string (nullable = true)\n",
      " |-- WatchDate: string (nullable = true)\n",
      " |-- CallFinalDisposition: string (nullable = true)\n",
      " |-- AvailableDtTm: string (nullable = true)\n",
      " |-- Address: string (nullable = true)\n",
      " |-- City: string (nullable = true)\n",
      " |-- Zipcode: integer (nullable = true)\n",
      " |-- Battalion: string (nullable = true)\n",
      " |-- StationArea: string (nullable = true)\n",
      " |-- Box: string (nullable = true)\n",
      " |-- OriginalPriority: string (nullable = true)\n",
      " |-- Priority: string (nullable = true)\n",
      " |-- FinalPriority: integer (nullable = true)\n",
      " |-- ALSUnit: boolean (nullable = true)\n",
      " |-- CallTypeGroup: string (nullable = true)\n",
      " |-- NumAlarms: integer (nullable = true)\n",
      " |-- UnitType: string (nullable = true)\n",
      " |-- UnitSequenceInCallDispatch: integer (nullable = true)\n",
      " |-- FirePreventionDistrict: string (nullable = true)\n",
      " |-- SupervisorDistrict: string (nullable = true)\n",
      " |-- Neighborhood: string (nullable = true)\n",
      " |-- Location: string (nullable = true)\n",
      " |-- RowID: string (nullable = true)\n",
      " |-- Delay: float (nullable = true)"
     ]
    }
   ],
   "source": [
    "fire_df.printSchema()"
   ]
  },
  {
   "cell_type": "code",
   "execution_count": null,
   "id": "dc3e4ec6-e56c-40fd-90ab-e1346d95d319",
   "metadata": {},
   "outputs": [],
   "source": [
    "fire_df.limit(50)"
   ]
  },
  {
   "cell_type": "code",
   "execution_count": 38,
   "id": "5fcb6ea3-5297-4fac-9c0b-7f5212fcb16d",
   "metadata": {
    "execution": {
     "iopub.execute_input": "2022-09-21T22:55:56.241800Z",
     "iopub.status.busy": "2022-09-21T22:55:56.241531Z",
     "iopub.status.idle": "2022-09-21T22:55:57.019081Z",
     "shell.execute_reply": "2022-09-21T22:55:57.018238Z",
     "shell.execute_reply.started": "2022-09-21T22:55:56.241768Z"
    },
    "tags": []
   },
   "outputs": [
    {
     "data": {
      "application/vnd.jupyter.widget-view+json": {
       "model_id": "28f8617f017d457795662dd7fda4c5b0",
       "version_major": 2,
       "version_minor": 0
      },
      "text/plain": [
       "VBox()"
      ]
     },
     "metadata": {},
     "output_type": "display_data"
    },
    {
     "data": {
      "application/vnd.jupyter.widget-view+json": {
       "model_id": "",
       "version_major": 2,
       "version_minor": 0
      },
      "text/plain": [
       "FloatProgress(value=0.0, bar_style='info', description='Progress:', layout=Layout(height='25px', width='50%'),…"
      ]
     },
     "metadata": {},
     "output_type": "display_data"
    },
    {
     "name": "stdout",
     "output_type": "stream",
     "text": [
      "+--------------+----------------------+-----------------+\n",
      "|IncidentNumber|AvailableDtTm         |CallType         |\n",
      "+--------------+----------------------+-----------------+\n",
      "|21000746      |01/02/2021 07:49:55 PM|Alarms           |\n",
      "|21000454      |01/02/2021 03:03:06 AM|Other            |\n",
      "|21000466      |01/02/2021 04:53:25 AM|Outside Fire     |\n",
      "|21000443      |01/02/2021 02:02:18 AM|Alarms           |\n",
      "|21000631      |01/02/2021 02:39:15 PM|Traffic Collision|\n",
      "+--------------+----------------------+-----------------+\n",
      "only showing top 5 rows"
     ]
    }
   ],
   "source": [
    "few_fire_df = (fire_df.select(\"IncidentNumber\", \"AvailableDtTm\", \"CallType\") \n",
    "              .where(col(\"CallType\") != \"Medical Incident\"))\n",
    "\n",
    "\n",
    "few_fire_df.show(5, truncate=False)"
   ]
  },
  {
   "cell_type": "markdown",
   "id": "12c71a95-4bc1-492d-be34-0bdb173f5b69",
   "metadata": {},
   "source": [
    "**Q-1) How many distinct types of calls were made to the Fire Department?**\n",
    "\n",
    "To be sure, let's not count \"null\" strings in that column.\n"
   ]
  },
  {
   "cell_type": "code",
   "execution_count": 39,
   "id": "5c03d1c0-238d-4b1a-a77b-3ef9df268ecb",
   "metadata": {
    "execution": {
     "iopub.execute_input": "2022-09-21T22:56:03.082350Z",
     "iopub.status.busy": "2022-09-21T22:56:03.082034Z",
     "iopub.status.idle": "2022-09-21T22:56:06.384286Z",
     "shell.execute_reply": "2022-09-21T22:56:06.383252Z",
     "shell.execute_reply.started": "2022-09-21T22:56:03.082317Z"
    }
   },
   "outputs": [
    {
     "data": {
      "application/vnd.jupyter.widget-view+json": {
       "model_id": "d4b1009e82f44355ae8771185d48d5db",
       "version_major": 2,
       "version_minor": 0
      },
      "text/plain": [
       "VBox()"
      ]
     },
     "metadata": {},
     "output_type": "display_data"
    },
    {
     "data": {
      "application/vnd.jupyter.widget-view+json": {
       "model_id": "",
       "version_major": 2,
       "version_minor": 0
      },
      "text/plain": [
       "FloatProgress(value=0.0, bar_style='info', description='Progress:', layout=Layout(height='25px', width='50%'),…"
      ]
     },
     "metadata": {},
     "output_type": "display_data"
    },
    {
     "name": "stdout",
     "output_type": "stream",
     "text": [
      "30"
     ]
    }
   ],
   "source": [
    "fire_df.select(\"CallType\").where(col(\"CallType\").isNotNull()).distinct().count()"
   ]
  },
  {
   "cell_type": "markdown",
   "id": "c6dd218c-7c08-4930-933c-47ecb9707a5d",
   "metadata": {},
   "source": [
    "**Q-2) What are distinct types of calls were made to the Fire Department?**\n",
    "\n",
    "These are all the distinct type of call to the SF Fire Department\n"
   ]
  },
  {
   "cell_type": "code",
   "execution_count": 40,
   "id": "2cbbb7f7-0cb8-4b51-8dae-316de0e2f81c",
   "metadata": {
    "execution": {
     "iopub.execute_input": "2022-09-21T22:56:09.201730Z",
     "iopub.status.busy": "2022-09-21T22:56:09.201454Z",
     "iopub.status.idle": "2022-09-21T22:56:11.505495Z",
     "shell.execute_reply": "2022-09-21T22:56:11.504436Z",
     "shell.execute_reply.started": "2022-09-21T22:56:09.201698Z"
    },
    "tags": []
   },
   "outputs": [
    {
     "data": {
      "application/vnd.jupyter.widget-view+json": {
       "model_id": "825921a6a18d4e8a95326f082e55cd2e",
       "version_major": 2,
       "version_minor": 0
      },
      "text/plain": [
       "VBox()"
      ]
     },
     "metadata": {},
     "output_type": "display_data"
    },
    {
     "data": {
      "application/vnd.jupyter.widget-view+json": {
       "model_id": "",
       "version_major": 2,
       "version_minor": 0
      },
      "text/plain": [
       "FloatProgress(value=0.0, bar_style='info', description='Progress:', layout=Layout(height='25px', width='50%'),…"
      ]
     },
     "metadata": {},
     "output_type": "display_data"
    },
    {
     "name": "stdout",
     "output_type": "stream",
     "text": [
      "+--------------------------------------------+\n",
      "|CallType                                    |\n",
      "+--------------------------------------------+\n",
      "|Elevator / Escalator Rescue                 |\n",
      "|Marine Fire                                 |\n",
      "|Odor (Strange / Unknown)                    |\n",
      "|Suspicious Package                          |\n",
      "|Extrication / Entrapped (Machinery, Vehicle)|\n",
      "|Other                                       |\n",
      "|Traffic Collision                           |\n",
      "|Water Rescue                                |\n",
      "|Structure Fire                              |\n",
      "|Aircraft Emergency                          |\n",
      "+--------------------------------------------+\n",
      "only showing top 10 rows"
     ]
    }
   ],
   "source": [
    "fire_df.select(\"CallType\").where(col(\"CallType\").isNotNull()).distinct().show(10, False)"
   ]
  },
  {
   "cell_type": "markdown",
   "id": "cfc1011e-949e-43b0-9c74-9cef0bae623e",
   "metadata": {},
   "source": [
    "## Let's do some ETL:\n",
    "\n",
    "    Transform the string dates to Spark Timestamp data type so we can make some time-based queries later\n",
    "    Returns a transformed query\n",
    "    Cache the new DataFrame\n",
    "\n"
   ]
  },
  {
   "cell_type": "code",
   "execution_count": 43,
   "id": "4926727c-44d4-4914-a8ee-a7e6a85707ed",
   "metadata": {
    "execution": {
     "iopub.execute_input": "2022-09-21T23:00:39.042409Z",
     "iopub.status.busy": "2022-09-21T23:00:39.042140Z",
     "iopub.status.idle": "2022-09-21T23:00:39.317743Z",
     "shell.execute_reply": "2022-09-21T23:00:39.316823Z",
     "shell.execute_reply.started": "2022-09-21T23:00:39.042377Z"
    }
   },
   "outputs": [
    {
     "data": {
      "application/vnd.jupyter.widget-view+json": {
       "model_id": "4cf45cb5a9fb41cda5e1fa425eea5b6b",
       "version_major": 2,
       "version_minor": 0
      },
      "text/plain": [
       "VBox()"
      ]
     },
     "metadata": {},
     "output_type": "display_data"
    },
    {
     "data": {
      "application/vnd.jupyter.widget-view+json": {
       "model_id": "",
       "version_major": 2,
       "version_minor": 0
      },
      "text/plain": [
       "FloatProgress(value=0.0, bar_style='info', description='Progress:', layout=Layout(height='25px', width='50%'),…"
      ]
     },
     "metadata": {},
     "output_type": "display_data"
    }
   ],
   "source": [
    "fire_ts_df = (new_fire_df\n",
    "              .withColumn(\"IncidentDate\", to_timestamp(col(\"CallDate\"), \"MM/dd/yyyy\")).drop(\"CallDate\") \n",
    "              .withColumn(\"OnWatchDate\",   to_timestamp(col(\"WatchDate\"), \"MM/dd/yyyy\")).drop(\"WatchDate\")\n",
    "              .withColumn(\"AvailableDtTS\", to_timestamp(col(\"AvailableDtTm\"), \"MM/dd/yyyy hh:mm:ss a\")).drop(\"AvailableDtTm\"))          "
   ]
  },
  {
   "cell_type": "code",
   "execution_count": 44,
   "id": "edb45e79-c698-4946-8492-0c50f7e578e7",
   "metadata": {
    "execution": {
     "iopub.execute_input": "2022-09-21T23:00:41.923274Z",
     "iopub.status.busy": "2022-09-21T23:00:41.922982Z",
     "iopub.status.idle": "2022-09-21T23:00:42.189443Z",
     "shell.execute_reply": "2022-09-21T23:00:42.188549Z",
     "shell.execute_reply.started": "2022-09-21T23:00:41.923222Z"
    }
   },
   "outputs": [
    {
     "data": {
      "application/vnd.jupyter.widget-view+json": {
       "model_id": "2f6c4ed599a7435bb835e03f801157d4",
       "version_major": 2,
       "version_minor": 0
      },
      "text/plain": [
       "VBox()"
      ]
     },
     "metadata": {},
     "output_type": "display_data"
    },
    {
     "data": {
      "application/vnd.jupyter.widget-view+json": {
       "model_id": "",
       "version_major": 2,
       "version_minor": 0
      },
      "text/plain": [
       "FloatProgress(value=0.0, bar_style='info', description='Progress:', layout=Layout(height='25px', width='50%'),…"
      ]
     },
     "metadata": {},
     "output_type": "display_data"
    },
    {
     "name": "stdout",
     "output_type": "stream",
     "text": [
      "['CallNumber', 'UnitID', 'IncidentNumber', 'CallType', 'CallFinalDisposition', 'Address', 'City', 'Zipcode', 'Battalion', 'StationArea', 'Box', 'OriginalPriority', 'Priority', 'FinalPriority', 'ALSUnit', 'CallTypeGroup', 'NumAlarms', 'UnitType', 'UnitSequenceInCallDispatch', 'FirePreventionDistrict', 'SupervisorDistrict', 'Neighborhood', 'Location', 'RowID', 'ResponseDelayedinMins', 'IncidentDate', 'OnWatchDate', 'AvailableDtTS']"
     ]
    }
   ],
   "source": [
    "fire_ts_df.cache()\n",
    "fire_ts_df.columns"
   ]
  },
  {
   "cell_type": "markdown",
   "id": "5f42b14a-e67b-4d27-a566-4bdd2ffa2454",
   "metadata": {},
   "source": [
    "Check the transformed columns with Spark Timestamp type"
   ]
  },
  {
   "cell_type": "code",
   "execution_count": 45,
   "id": "fc5c1af4-a9ea-4266-bffb-125b948cbf6d",
   "metadata": {
    "execution": {
     "iopub.execute_input": "2022-09-21T23:00:46.770066Z",
     "iopub.status.busy": "2022-09-21T23:00:46.769778Z",
     "iopub.status.idle": "2022-09-21T23:01:12.148491Z",
     "shell.execute_reply": "2022-09-21T23:01:12.147362Z",
     "shell.execute_reply.started": "2022-09-21T23:00:46.770019Z"
    }
   },
   "outputs": [
    {
     "data": {
      "application/vnd.jupyter.widget-view+json": {
       "model_id": "9b4f98d394a84f6c98d08865c56c742f",
       "version_major": 2,
       "version_minor": 0
      },
      "text/plain": [
       "VBox()"
      ]
     },
     "metadata": {},
     "output_type": "display_data"
    },
    {
     "data": {
      "application/vnd.jupyter.widget-view+json": {
       "model_id": "",
       "version_major": 2,
       "version_minor": 0
      },
      "text/plain": [
       "FloatProgress(value=0.0, bar_style='info', description='Progress:', layout=Layout(height='25px', width='50%'),…"
      ]
     },
     "metadata": {},
     "output_type": "display_data"
    },
    {
     "name": "stdout",
     "output_type": "stream",
     "text": [
      "+-------------------+-------------------+-------------------+\n",
      "|IncidentDate       |OnWatchDate        |AvailableDtTS      |\n",
      "+-------------------+-------------------+-------------------+\n",
      "|2021-01-02 00:00:00|2021-01-02 00:00:00|2021-01-02 19:49:55|\n",
      "|2021-01-02 00:00:00|2021-01-02 00:00:00|2021-01-02 18:03:53|\n",
      "|2021-01-02 00:00:00|2021-01-02 00:00:00|2021-01-02 16:29:46|\n",
      "|2021-01-02 00:00:00|2021-01-01 00:00:00|2021-01-02 03:03:06|\n",
      "|2021-01-02 00:00:00|2021-01-02 00:00:00|2021-01-02 14:15:14|\n",
      "+-------------------+-------------------+-------------------+\n",
      "only showing top 5 rows"
     ]
    }
   ],
   "source": [
    "fire_ts_df.select(\"IncidentDate\", \"OnWatchDate\", \"AvailableDtTS\").show(5, False)"
   ]
  },
  {
   "cell_type": "markdown",
   "id": "9297e64c-5de6-4ad9-b310-15f02e21418b",
   "metadata": {
    "execution": {
     "iopub.execute_input": "2022-09-21T21:36:51.737000Z",
     "iopub.status.busy": "2022-09-21T21:36:51.736731Z",
     "iopub.status.idle": "2022-09-21T21:36:51.808298Z",
     "shell.execute_reply": "2022-09-21T21:36:51.807349Z",
     "shell.execute_reply.started": "2022-09-21T21:36:51.736968Z"
    }
   },
   "source": [
    "**Q-4) What were the most common call types?**\n",
    "\n",
    "List them in descending order\n"
   ]
  },
  {
   "cell_type": "code",
   "execution_count": 46,
   "id": "e8764443-ba39-4b3b-bc17-650bc17daeb5",
   "metadata": {
    "execution": {
     "iopub.execute_input": "2022-09-21T23:01:23.841700Z",
     "iopub.status.busy": "2022-09-21T23:01:23.841427Z",
     "iopub.status.idle": "2022-09-21T23:01:41.193440Z",
     "shell.execute_reply": "2022-09-21T23:01:41.192529Z",
     "shell.execute_reply.started": "2022-09-21T23:01:23.841667Z"
    }
   },
   "outputs": [
    {
     "data": {
      "application/vnd.jupyter.widget-view+json": {
       "model_id": "8464ff84bd464cba86d7fa1ed34d3a46",
       "version_major": 2,
       "version_minor": 0
      },
      "text/plain": [
       "VBox()"
      ]
     },
     "metadata": {},
     "output_type": "display_data"
    },
    {
     "data": {
      "application/vnd.jupyter.widget-view+json": {
       "model_id": "",
       "version_major": 2,
       "version_minor": 0
      },
      "text/plain": [
       "FloatProgress(value=0.0, bar_style='info', description='Progress:', layout=Layout(height='25px', width='50%'),…"
      ]
     },
     "metadata": {},
     "output_type": "display_data"
    },
    {
     "name": "stdout",
     "output_type": "stream",
     "text": [
      "+-------------------------------+------+\n",
      "|CallType                       |count |\n",
      "+-------------------------------+------+\n",
      "|Medical Incident               |359574|\n",
      "|Alarms                         |65952 |\n",
      "|Structure Fire                 |32666 |\n",
      "|Traffic Collision              |20108 |\n",
      "|Other                          |12045 |\n",
      "|Outside Fire                   |9309  |\n",
      "|Citizen Assist / Service Call  |7455  |\n",
      "|Water Rescue                   |3819  |\n",
      "|Gas Leak (Natural and LP Gases)|3792  |\n",
      "|Electrical Hazard              |2752  |\n",
      "+-------------------------------+------+\n",
      "only showing top 10 rows"
     ]
    }
   ],
   "source": [
    "(fire_ts_df\n",
    " .select(\"CallType\").where(col(\"CallType\").isNotNull())\n",
    " .groupBy(\"CallType\")\n",
    " .count()\n",
    " .orderBy(\"count\", ascending=False)\n",
    " .show(n=10, truncate=False))"
   ]
  },
  {
   "cell_type": "code",
   "execution_count": 47,
   "id": "6e2cee25-9d01-45bc-a0e4-70e88578e168",
   "metadata": {
    "execution": {
     "iopub.execute_input": "2022-09-21T23:01:44.322722Z",
     "iopub.status.busy": "2022-09-21T23:01:44.322442Z",
     "iopub.status.idle": "2022-09-21T23:01:45.099574Z",
     "shell.execute_reply": "2022-09-21T23:01:45.098855Z",
     "shell.execute_reply.started": "2022-09-21T23:01:44.322689Z"
    },
    "tags": []
   },
   "outputs": [
    {
     "data": {
      "application/vnd.jupyter.widget-view+json": {
       "model_id": "6e0d9d4d2c7d4ed9a68fac482364d596",
       "version_major": 2,
       "version_minor": 0
      },
      "text/plain": [
       "VBox()"
      ]
     },
     "metadata": {},
     "output_type": "display_data"
    },
    {
     "data": {
      "application/vnd.jupyter.widget-view+json": {
       "model_id": "",
       "version_major": 2,
       "version_minor": 0
      },
      "text/plain": [
       "FloatProgress(value=0.0, bar_style='info', description='Progress:', layout=Layout(height='25px', width='50%'),…"
      ]
     },
     "metadata": {},
     "output_type": "display_data"
    },
    {
     "name": "stdout",
     "output_type": "stream",
     "text": [
      "+--------------------+------+\n",
      "|            CallType| count|\n",
      "+--------------------+------+\n",
      "|    Medical Incident|359574|\n",
      "|              Alarms| 65952|\n",
      "|      Structure Fire| 32666|\n",
      "|   Traffic Collision| 20108|\n",
      "|               Other| 12045|\n",
      "|        Outside Fire|  9309|\n",
      "|Citizen Assist / ...|  7455|\n",
      "|        Water Rescue|  3819|\n",
      "|Gas Leak (Natural...|  3792|\n",
      "|   Electrical Hazard|  2752|\n",
      "|        Vehicle Fire|  1720|\n",
      "|Elevator / Escala...|  1680|\n",
      "|Smoke Investigati...|  1184|\n",
      "|          Fuel Spill|   464|\n",
      "|Odor (Strange / U...|   402|\n",
      "|Industrial Accidents|   148|\n",
      "|           Explosion|   140|\n",
      "|Train / Rail Inci...|   123|\n",
      "|   High Angle Rescue|   112|\n",
      "|              HazMat|   106|\n",
      "+--------------------+------+\n",
      "only showing top 20 rows"
     ]
    }
   ],
   "source": [
    "(fire_ts_df\n",
    " .select(\"CallType\").where(col(\"CallType\").isNotNull())\n",
    " .groupBy(\"CallType\")\n",
    " .count()\n",
    " .orderBy(\"count\", ascending=False)\n",
    " .show())"
   ]
  },
  {
   "cell_type": "markdown",
   "id": "86b667ee-76b0-4a40-b5a9-ff4e3c1d66bd",
   "metadata": {},
   "source": [
    "**Q-4a) What zip codes accounted for most common calls?**\n",
    "Let's investigate what zip codes in San Francisco accounted for most fire calls and what type where they.\n",
    "\n",
    "    Filter out by CallType\n",
    "    Group them by CallType and Zip code\n",
    "    Count them and display them in descending order\n",
    "\n",
    "It seems like the most common calls were all related to Medical Incident, and the two zip codes are 94102 and 94103.\n"
   ]
  },
  {
   "cell_type": "code",
   "execution_count": 53,
   "id": "365e138e-d9c1-44e1-9b78-a87cba9b7beb",
   "metadata": {
    "execution": {
     "iopub.execute_input": "2022-09-21T23:03:19.219506Z",
     "iopub.status.busy": "2022-09-21T23:03:19.219240Z",
     "iopub.status.idle": "2022-09-21T23:03:19.992457Z",
     "shell.execute_reply": "2022-09-21T23:03:19.991447Z",
     "shell.execute_reply.started": "2022-09-21T23:03:19.219475Z"
    },
    "tags": []
   },
   "outputs": [
    {
     "data": {
      "application/vnd.jupyter.widget-view+json": {
       "model_id": "31b0f025579e4aadaf2a7185e832d7f3",
       "version_major": 2,
       "version_minor": 0
      },
      "text/plain": [
       "VBox()"
      ]
     },
     "metadata": {},
     "output_type": "display_data"
    },
    {
     "data": {
      "application/vnd.jupyter.widget-view+json": {
       "model_id": "",
       "version_major": 2,
       "version_minor": 0
      },
      "text/plain": [
       "FloatProgress(value=0.0, bar_style='info', description='Progress:', layout=Layout(height='25px', width='50%'),…"
      ]
     },
     "metadata": {},
     "output_type": "display_data"
    },
    {
     "name": "stdout",
     "output_type": "stream",
     "text": [
      "+--------------------+-------+------+\n",
      "|            CallType|Zipcode| count|\n",
      "+--------------------+-------+------+\n",
      "|    Medical Incident|   null|359574|\n",
      "|              Alarms|   null| 65952|\n",
      "|      Structure Fire|   null| 32666|\n",
      "|   Traffic Collision|   null| 20108|\n",
      "|               Other|   null| 12045|\n",
      "|        Outside Fire|   null|  9309|\n",
      "|Citizen Assist / ...|   null|  7455|\n",
      "|        Water Rescue|   null|  3819|\n",
      "|Gas Leak (Natural...|   null|  3792|\n",
      "|   Electrical Hazard|   null|  2752|\n",
      "|        Vehicle Fire|   null|  1720|\n",
      "|Elevator / Escala...|   null|  1680|\n",
      "|Smoke Investigati...|   null|  1184|\n",
      "|          Fuel Spill|   null|   464|\n",
      "|Odor (Strange / U...|   null|   402|\n",
      "|Industrial Accidents|   null|   148|\n",
      "|           Explosion|   null|   140|\n",
      "|Train / Rail Inci...|   null|   123|\n",
      "|   High Angle Rescue|   null|   112|\n",
      "|              HazMat|   null|   106|\n",
      "+--------------------+-------+------+\n",
      "only showing top 20 rows"
     ]
    }
   ],
   "source": [
    "(fire_ts_df\n",
    " .select(\"CallType\", \"ZipCode\")\n",
    " .where(col(\"CallType\").isNotNull())\n",
    " .groupBy(\"CallType\", \"Zipcode\")\n",
    " .count()\n",
    " .orderBy(\"count\", ascending=False)\n",
    " .show())"
   ]
  },
  {
   "cell_type": "markdown",
   "id": "90f448b0-8c91-40a6-863a-3f8410e7540f",
   "metadata": {},
   "source": [
    "**Q-4b) What San Francisco neighborhoods are in the zip codes 94102 and 94103**\n",
    "\n",
    "Let's find out the neighborhoods associated with these two zip codes. In all likelihood, these are some of the contested neighborhood with high reported crimes.\n"
   ]
  },
  {
   "cell_type": "code",
   "execution_count": 54,
   "id": "77accb12-51ec-4cb6-8a74-03f67653bdea",
   "metadata": {
    "execution": {
     "iopub.execute_input": "2022-09-21T23:03:24.368281Z",
     "iopub.status.busy": "2022-09-21T23:03:24.368000Z",
     "iopub.status.idle": "2022-09-21T23:03:25.140489Z",
     "shell.execute_reply": "2022-09-21T23:03:25.139666Z",
     "shell.execute_reply.started": "2022-09-21T23:03:24.368249Z"
    },
    "tags": []
   },
   "outputs": [
    {
     "data": {
      "application/vnd.jupyter.widget-view+json": {
       "model_id": "c11c34c066fd45b6a4952a703c803ae7",
       "version_major": 2,
       "version_minor": 0
      },
      "text/plain": [
       "VBox()"
      ]
     },
     "metadata": {},
     "output_type": "display_data"
    },
    {
     "data": {
      "application/vnd.jupyter.widget-view+json": {
       "model_id": "",
       "version_major": 2,
       "version_minor": 0
      },
      "text/plain": [
       "FloatProgress(value=0.0, bar_style='info', description='Progress:', layout=Layout(height='25px', width='50%'),…"
      ]
     },
     "metadata": {},
     "output_type": "display_data"
    },
    {
     "name": "stdout",
     "output_type": "stream",
     "text": [
      "+------------+-------+\n",
      "|Neighborhood|Zipcode|\n",
      "+------------+-------+\n",
      "+------------+-------+"
     ]
    }
   ],
   "source": [
    "(fire_ts_df\n",
    " .select(\"Neighborhood\", \"Zipcode\")\n",
    " .where((col(\"Zipcode\") == 94102) | (col(\"Zipcode\") == 94103))\n",
    " .distinct()\n",
    " .show())\n",
    "\n"
   ]
  },
  {
   "cell_type": "code",
   "execution_count": null,
   "id": "94d82e2b-66c4-4237-a1d8-ff6bc5485c91",
   "metadata": {},
   "outputs": [],
   "source": []
  }
 ],
 "metadata": {
  "kernelspec": {
   "display_name": "PySpark",
   "language": "",
   "name": "pysparkkernel"
  },
  "language_info": {
   "codemirror_mode": {
    "name": "python",
    "version": 3
   },
   "mimetype": "text/x-python",
   "name": "pyspark",
   "pygments_lexer": "python3"
  }
 },
 "nbformat": 4,
 "nbformat_minor": 5
}
